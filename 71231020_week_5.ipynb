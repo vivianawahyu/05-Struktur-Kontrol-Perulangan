{
  "nbformat": 4,
  "nbformat_minor": 0,
  "metadata": {
    "colab": {
      "provenance": []
    },
    "kernelspec": {
      "name": "python3",
      "display_name": "Python 3"
    },
    "language_info": {
      "name": "python"
    }
  },
  "cells": [
    {
      "cell_type": "markdown",
      "source": [
        "soal 1"
      ],
      "metadata": {
        "id": "25N0ZfsokEtC"
      }
    },
    {
      "cell_type": "code",
      "source": [
        "def perkalian():\n",
        "    angka = int(input(\"masukkan angka yang ingin dijumlah: \"))\n",
        "    perkalian = int(input(\"masukkan perkalian berulang: \"))\n",
        "\n",
        "    data_pertama = (f\"{angka} x {perkalian}\")\n",
        "    penjumlahan = (f\"+\".join([str(perkalian)for i in range (angka)]))\n",
        "    hasil = (f\"= {angka * perkalian}\")\n",
        "\n",
        "    print(data_pertama, penjumlahan, hasil)\n",
        "perkalian()"
      ],
      "metadata": {
        "colab": {
          "base_uri": "https://localhost:8080/"
        },
        "id": "LYf60JTwkGcY",
        "outputId": "e95d5bb6-85e0-43bf-d53c-5cb9347b113d"
      },
      "execution_count": 1,
      "outputs": [
        {
          "output_type": "stream",
          "name": "stdout",
          "text": [
            "masukkan angka yang ingin dijumlah: 6\n",
            "masukkan perkalian berulang: 9\n",
            "6 x 9 9+9+9+9+9+9 = 54\n"
          ]
        }
      ]
    },
    {
      "cell_type": "markdown",
      "source": [
        "soal 2\n"
      ],
      "metadata": {
        "id": "tqedwpwOkcqg"
      }
    },
    {
      "cell_type": "code",
      "source": [
        "def ganjil():\n",
        "    if batas_bawah > batas_atas:\n",
        "        for i in range (batas_bawah, batas_atas - 1, -1):\n",
        "            if i % 2 != 0:\n",
        "                print (i)\n",
        "    elif batas_bawah < batas_atas:\n",
        "        for i in range (batas_bawah, batas_atas +1):\n",
        "            if i % 2 != 0:\n",
        "                print(i)\n",
        "\n",
        "batas_bawah = int(input(\"masukkan bilangan untuk batas bawah= \"))\n",
        "batas_atas = int(input(\"masukkan bilangan untuk batas atas= \"))\n",
        "ganjil()\n"
      ],
      "metadata": {
        "colab": {
          "base_uri": "https://localhost:8080/"
        },
        "id": "PubMkVDNkd6m",
        "outputId": "3f769c47-0d21-4260-b19f-ef9b546e11e0"
      },
      "execution_count": 2,
      "outputs": [
        {
          "output_type": "stream",
          "name": "stdout",
          "text": [
            "masukkan bilangan untuk batas bawah= 5\n",
            "masukkan bilangan untuk batas atas= 9\n",
            "5\n",
            "7\n",
            "9\n"
          ]
        }
      ]
    },
    {
      "cell_type": "markdown",
      "source": [
        "soal 3\n"
      ],
      "metadata": {
        "id": "8UhJfO4qkkT3"
      }
    },
    {
      "cell_type": "code",
      "source": [
        "def IPS():\n",
        "    matkul = int(input(\"masukkan jumlah mata kuliah= \"))\n",
        "    total = 0\n",
        "    for i in range(1, matkul + 1):\n",
        "        a = input(f\"nilai matkul {i} dalam alfabet: \")\n",
        "        if a == \"A\":\n",
        "            total += 4\n",
        "        elif a == \"B\":\n",
        "            total += 3\n",
        "        elif a == \"C\":\n",
        "            total += 2\n",
        "        elif a == \"D\":\n",
        "            total += 1\n",
        "\n",
        "    total = total/i\n",
        "    print(f\"Nilai IPS semester ini = {total:.2f}\")\n",
        "IPS()\n"
      ],
      "metadata": {
        "colab": {
          "base_uri": "https://localhost:8080/"
        },
        "id": "TiVkp-b-lDVn",
        "outputId": "32bafb90-0ac8-4712-b827-fbacea0432b6"
      },
      "execution_count": 6,
      "outputs": [
        {
          "output_type": "stream",
          "name": "stdout",
          "text": [
            "masukkan jumlah mata kuliah= 9\n",
            "nilai matkul 1 dalam alfabet: A\n",
            "nilai matkul 2 dalam alfabet: A\n",
            "nilai matkul 3 dalam alfabet: A\n",
            "nilai matkul 4 dalam alfabet: B\n",
            "nilai matkul 5 dalam alfabet: B\n",
            "nilai matkul 6 dalam alfabet: B\n",
            "nilai matkul 7 dalam alfabet: B\n",
            "nilai matkul 8 dalam alfabet: A\n",
            "nilai matkul 9 dalam alfabet: B\n",
            "Nilai IPS semester ini = 3.44\n"
          ]
        }
      ]
    },
    {
      "cell_type": "code",
      "source": [],
      "metadata": {
        "id": "RB0VPYMolG4e"
      },
      "execution_count": 6,
      "outputs": []
    }
  ]
}